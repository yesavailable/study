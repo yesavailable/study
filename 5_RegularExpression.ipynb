{
  "nbformat": 4,
  "nbformat_minor": 0,
  "metadata": {
    "colab": {
      "provenance": [],
      "include_colab_link": true
    },
    "kernelspec": {
      "name": "python3",
      "display_name": "Python 3"
    },
    "language_info": {
      "name": "python"
    }
  },
  "cells": [
    {
      "cell_type": "markdown",
      "metadata": {
        "id": "view-in-github",
        "colab_type": "text"
      },
      "source": [
        "<a href=\"https://colab.research.google.com/github/yesavailable/study/blob/main/5_RegularExpression.ipynb\" target=\"_parent\"><img src=\"https://colab.research.google.com/assets/colab-badge.svg\" alt=\"Open In Colab\"/></a>"
      ]
    },
    {
      "cell_type": "code",
      "execution_count": null,
      "metadata": {
        "id": "WhmHjz8Yy0of"
      },
      "outputs": [],
      "source": []
    },
    {
      "cell_type": "markdown",
      "source": [
        "## <font color = 'brown'> **Regular Expression (re)** </font> 정규표현식\n",
        "\n",
        "- 파이썬에서 사용되는 정규표현식 (Regular expressions)은 특정한 규칙을 가진 문자열의 집합을 표현하는 데 사용하는 형식 언어이다.\n",
        "- 정규표현식은 문자열에서 특정한 패턴을 검색하거나 매치하는 데 사용되는 문자열 검색과 치환을 위해 사용되는 기술이다.\n",
        "- 문자열에서 패턴을 정의하고, 그 패턴과 일치하는 부분을 찾거나 변경할 수 있다.\n",
        "- 파이썬 프로그래밍 내장 모듈이다. 복잡한 문자열 처리 작업에 유용하다.\n",
        "- 메타 문자 (Meta characters(특수문자))는 문자가 가진 원래의 의미가 아닌 특별한 용도로 사용되는 문자이다. 정규표현식에서 사용되는 메타 문자는 . ^ $ * + ? \\ | ( ) { } [ ] 이 있다.\n",
        "\n",
        "## <font color = 'brown'> **re**\n",
        "  - Python의 내장 모듈로서, 정규 표현식을 지원하는 라이브러리다. 정규 표현식은 문자열 패턴을 검색, 매치, 치환하거나 조작하는 데 사용됩니다. re 모듈은 문자열을 다룰 때 패턴 매칭과 관련된 작업을 수행하는 데 도움을 준다. 이 모듈을 사용하면 텍스트 데이터에서 원하는 패턴을 검색하거나 추출할 수 있다."
      ],
      "metadata": {
        "id": "xzwuO6jCeINh"
      }
    },
    {
      "cell_type": "markdown",
      "source": [
        "🐹 🐾 Common **escape characters** include:\n",
        "\n",
        "- **\\n**: Represents a newline character. It is used to start a new line in a string.\n",
        "- **\\t**: Represents a tab character. It is used to insert a horizontal tab into a string.\n",
        "- **two consecutive backslashes**: Represents a literal backslash character. This is used to include a backslash in a string.\n",
        "- **\\ '**: Represents a single quotation mark (apostrophe). It is used to include a single quotation mark within a string enclosed in single quotes.\n",
        "- **\\ \"**: Represents a double quotation mark. It is used to include a double quotation mark within a string enclosed in double quotes.\n",
        "- **\\r**: Represents a carriage return. It is used to move the cursor to the beginning of the line.\n",
        "- **\\b**: Represents a backspace character. It is used to erase the previous character.\n",
        "\n",
        ">\n",
        "_Just for your reference_: **아래는 집에 가서 그냥 읽어보기**⤵️\n",
        "\n",
        "\n",
        "\n",
        "\n",
        "\n",
        "\n",
        "    \\v: Represents a vertical tab character. It is used to insert a vertical tab. It is rarely used.\n",
        "    \\v는 세로 탭(vertical tab) 문자를 나타내는 이스케이프 시퀀스다. 세로 탭은 일반적으로 텍스트 출력 중에 특정 위치로 이동하거나 세로로 텍스트를 정렬하는 데 사용된다. 정규 표현식에서 \\v를 사용하여 세로 탭 문자를 매치할 수 있습니다. 예를 들어, 정규 표현식에서 \\s+는 하나 이상의 연속된 공백 문자를 매치하는 패턴을 나타내며, \\f나 \\v를 사용하여 폼 피드나 세로 탭 문자를 매치할 수 있다. 이러한 이스케이프 시퀀스는 텍스트 데이터에서 특정 종류의 공백 문자를 처리하거나 추출할 때 유용하다.\n",
        "\n",
        "\n",
        "    \\f: Represents a form feed character. It is used to advance the cursor to the next page or form.\n",
        "    \\f는 폼 피드(form feed) 문자를 나타내는 이스케이프 시퀀스다. 폼 피드는 종이 프린터나 출력 장치에서 다음 페이지로 넘어가거나 특정 위치로 이동하는 데 사용되는 제어 문자 중 하나다. 정규 표현식에서 \\f를 사용하여 폼 피드 문자를 매치할 수 있다."
      ],
      "metadata": {
        "id": "kpWi1XZKLCX3"
      }
    },
    {
      "cell_type": "markdown",
      "source": [
        "\n",
        "\n",
        "1️⃣ 정규 표현식 문법 ⤵️\n",
        "\n",
        "정규 표현식을 위해 사용되는 문법 중 meta characters(특수문자)들은 아래와 같다.\n",
        ">\n",
        "\n",
        "|Symbol | Meaning|\n",
        "|--|--|\n",
        "|. | 한 개의 임의의 문자 (줄바꿈 문자인 \\n는 제외)|\n",
        "|? | 앞의 문자가 존재할 수도 있고, 존재하지 않을 수도 있음 (문자가 0개 또는 1개)|\n",
        "|* | 앞의 문자가 무한개로 존재할 수도 있고, 존재하지 않을 수도 있음 (문자가 0개 이상)|\n",
        "|+ | 앞의 문자가 최소 한 개 이상 존재 (문자가 1개 이상)|\n",
        "|^ | 뒤의 문자열로 문자열이 시작|\n",
        "|$ | 앞의 문자열로 문자열이 끝남|\n",
        "\n",
        "\n"
      ],
      "metadata": {
        "id": "l6DD0rHNy1Yn"
      }
    },
    {
      "cell_type": "markdown",
      "source": [
        "🐹 🐾 **정규표현식 패턴은 _문자열_ 형태로 표현한다.**\n",
        "\n",
        "🐳💧 <font color = 'red'>**접두어 r 은 Raw 문자열을 나타내며, 이스케이프 문자(e.g., \\n, \\t, \\\\) 를 해석하지 않고 그대로 문자열로 표현하도록 힌다.**\n",
        "- The 'r' (raw) prefix is commonly used with regular expressions to simplify the handling of backslashes, but there are situations where you might see 'r' used without any escape characters (backslashes) in the regular expression. This can be due to a few reasons:\n",
        "\n",
        "    - <font color = 'blue'>**Consistency**</font>: Some programmers choose to consistently use the 'r' prefix for all regular expressions, even when the pattern doesn't contain any backslashes. This practice can make the code more uniform and easier to read.\n",
        "\n",
        "    - <font color = 'blue'>**Future-Proofing**</font>: Using 'r' for all regular expressions, regardless of whether they contain escape characters, can help prevent issues if the regular expression pattern is later modified to include backslashes. It ensures that backslashes are treated as literal characters from the start.\n",
        "\n",
        "    - <font color = 'blue'>**Code Maintenance**</font>: Code maintenance and readability are important. When you revisit your code in the future, you may not remember the specific details of each regular expression. Using 'r' consistently helps avoid potential pitfalls if you or someone else later modify the pattern.\n",
        "\n",
        "    - <font color = 'blue'>**Compatibility**</font>: It may also be a matter of compatibility across different parts of the code or between different regular expression libraries. Using 'r' consistently ensures that regular expressions are handled consistently throughout the codebase.\n",
        "\n"
      ],
      "metadata": {
        "id": "N-_A8t716QpE"
      }
    },
    {
      "cell_type": "code",
      "source": [
        "#11. [a-z] (뜻: 'a'부터 'z'까지의 모든 소문자 글자와 일치) 예시\n",
        "\n",
        "import re\n",
        "\n",
        "text = \"The quick brown fox jumps over the lazy dog.\"\n",
        "pattern = r\"[a-z]\"  # 소문자 알파벳에 일치하는 패턴\n",
        "\n",
        "matches = re.findall(pattern, text)\n",
        "\n",
        "for i in matches:\n",
        "    print(\"Match:\", i)"
      ],
      "metadata": {
        "colab": {
          "base_uri": "https://localhost:8080/"
        },
        "id": "EKoaGHqBUNvz",
        "outputId": "ab5b5ae5-8e75-4120-a38d-5f653e90c05e"
      },
      "execution_count": null,
      "outputs": [
        {
          "output_type": "stream",
          "name": "stdout",
          "text": [
            "Match: h\n",
            "Match: e\n",
            "Match: q\n",
            "Match: u\n",
            "Match: i\n",
            "Match: c\n",
            "Match: k\n",
            "Match: b\n",
            "Match: r\n",
            "Match: o\n",
            "Match: w\n",
            "Match: n\n",
            "Match: f\n",
            "Match: o\n",
            "Match: x\n",
            "Match: j\n",
            "Match: u\n",
            "Match: m\n",
            "Match: p\n",
            "Match: s\n",
            "Match: o\n",
            "Match: v\n",
            "Match: e\n",
            "Match: r\n",
            "Match: t\n",
            "Match: h\n",
            "Match: e\n",
            "Match: l\n",
            "Match: a\n",
            "Match: z\n",
            "Match: y\n",
            "Match: d\n",
            "Match: o\n",
            "Match: g\n"
          ]
        }
      ]
    },
    {
      "cell_type": "code",
      "source": [
        "#12. [A-Z] ('a'부터 'z'까지의 모든 대문자 글자와 일치) 예시\n",
        "\n",
        "import re\n",
        "\n",
        "text = \"\\\"The book titles are 'The Aesop for Children', 'Harry Potter', and 'Pride and Prejudice',\\\" said Amelia.\"\n",
        "pattern = r\"[A-Z]\"  # 대문자 알파벳에 일치하는 패턴\n",
        "\n",
        "matches = re.findall(pattern, text)\n",
        "\n",
        "for i in matches:\n",
        "    print(\"Match:\", i)"
      ],
      "metadata": {
        "colab": {
          "base_uri": "https://localhost:8080/"
        },
        "id": "Yjhd70m5UYA9",
        "outputId": "714fe56c-2797-4fcc-8d94-24af179ab9db"
      },
      "execution_count": null,
      "outputs": [
        {
          "output_type": "stream",
          "name": "stdout",
          "text": [
            "Match: T\n",
            "Match: T\n",
            "Match: A\n",
            "Match: C\n",
            "Match: H\n",
            "Match: P\n",
            "Match: P\n",
            "Match: P\n",
            "Match: A\n"
          ]
        }
      ]
    },
    {
      "cell_type": "code",
      "source": [
        "#13. [a-zA-Z] (뜻:  알파벳(대소문자 구분 없이) 모든 문자와 일치) 예시\n",
        "\n",
        "import re\n",
        "\n",
        "text = \"New York is a wonderful city.\"\n",
        "pattern = r\"[a-zA-Z]\"  # 알파벳(대소문자 구분 없이) 모든 문자를 찾을 때 사용\n",
        "\n",
        "matches = re.findall(pattern, text)\n",
        "\n",
        "for i in matches:\n",
        "    print(\"Match:\", i)"
      ],
      "metadata": {
        "colab": {
          "base_uri": "https://localhost:8080/"
        },
        "id": "nGHMPctWUv7W",
        "outputId": "ed9c9a11-e50a-4b09-d01d-74c0879a1ea1"
      },
      "execution_count": null,
      "outputs": [
        {
          "output_type": "stream",
          "name": "stdout",
          "text": [
            "Match: N\n",
            "Match: e\n",
            "Match: w\n",
            "Match: Y\n",
            "Match: o\n",
            "Match: r\n",
            "Match: k\n",
            "Match: i\n",
            "Match: s\n",
            "Match: a\n",
            "Match: w\n",
            "Match: o\n",
            "Match: n\n",
            "Match: d\n",
            "Match: e\n",
            "Match: r\n",
            "Match: f\n",
            "Match: u\n",
            "Match: l\n",
            "Match: c\n",
            "Match: i\n",
            "Match: t\n",
            "Match: y\n"
          ]
        }
      ]
    },
    {
      "cell_type": "code",
      "source": [
        "#14. [0-9] (뜻: 모든 숫자 (정수 형태)와 일치) 일치\n",
        "\n",
        "import re\n",
        "\n",
        "text = \"A total of 149 episodes of The Aesop for Children.\"\n",
        "pattern = r\"[0-9]\"  #숫자를 찾을 때 사용\n",
        "\n",
        "matches = re.findall(pattern, text)\n",
        "\n",
        "for i in matches:\n",
        "    print(\"Match:\", i)"
      ],
      "metadata": {
        "colab": {
          "base_uri": "https://localhost:8080/"
        },
        "id": "AQL3FTEwVrRK",
        "outputId": "5ee1cfa7-bb7f-4eff-87ac-6d07cf0867e1"
      },
      "execution_count": null,
      "outputs": [
        {
          "output_type": "stream",
          "name": "stdout",
          "text": [
            "Match: 1\n",
            "Match: 4\n",
            "Match: 9\n"
          ]
        }
      ]
    },
    {
      "cell_type": "code",
      "source": [
        "#14a. 💣💊COMPARE\n",
        "\n",
        "import re\n",
        "\n",
        "text = \"In mathematics, 3.14 is a decimal approximation of the mathematical constant π (pi).\"\n",
        "pattern = r\"[0-9]\"  #숫자를 찾을 때 사용\n",
        "\n",
        "matches = re.findall(pattern, text)\n",
        "\n",
        "for i in matches:\n",
        "    print(\"Match:\", i)"
      ],
      "metadata": {
        "id": "A-5Mm7PTYf-D",
        "outputId": "a8a103fb-b015-4862-e49e-aa96a62c831e",
        "colab": {
          "base_uri": "https://localhost:8080/"
        }
      },
      "execution_count": null,
      "outputs": [
        {
          "output_type": "stream",
          "name": "stdout",
          "text": [
            "Match: 3\n",
            "Match: 1\n",
            "Match: 4\n"
          ]
        }
      ]
    },
    {
      "cell_type": "code",
      "source": [
        "#15. [a-zA-Z0-9] (뜻: 대문자 소문자 구분없이 알파벳과 숫자를 포함하는 모든 문자와 일치) 예시\n",
        "import re\n",
        "\n",
        "text = \"24 Hours a Day, 7 Days a Week, & 365 Days a Year!\"\n",
        "pattern = r\"[a-zA-Z0-9]\"  #알파벳(대소문자 구분 없이)과 숫자를 포함하는 모든 문자를 찾을 때 사용. 기호는 포함 안됨.\n",
        "\n",
        "matches = re.findall(pattern, text)\n",
        "\n",
        "for i in matches:\n",
        "    print(\"Match:\", i)"
      ],
      "metadata": {
        "colab": {
          "base_uri": "https://localhost:8080/"
        },
        "id": "8whPpXJTU6aU",
        "outputId": "0e7daf7a-d4bf-4f1f-9cc0-b4daab135dc4"
      },
      "execution_count": null,
      "outputs": [
        {
          "output_type": "stream",
          "name": "stdout",
          "text": [
            "Match: 2\n",
            "Match: 4\n",
            "Match: H\n",
            "Match: o\n",
            "Match: u\n",
            "Match: r\n",
            "Match: s\n",
            "Match: a\n",
            "Match: D\n",
            "Match: a\n",
            "Match: y\n",
            "Match: 7\n",
            "Match: D\n",
            "Match: a\n",
            "Match: y\n",
            "Match: s\n",
            "Match: a\n",
            "Match: W\n",
            "Match: e\n",
            "Match: e\n",
            "Match: k\n",
            "Match: 3\n",
            "Match: 6\n",
            "Match: 5\n",
            "Match: D\n",
            "Match: a\n",
            "Match: y\n",
            "Match: s\n",
            "Match: a\n",
            "Match: Y\n",
            "Match: e\n",
            "Match: a\n",
            "Match: r\n"
          ]
        }
      ]
    },
    {
      "cell_type": "code",
      "source": [
        "#16. [^a-zA-Z0-9] (소문자, 대문자 및 숫자를 제외한 모든 문자와 일치)\n",
        "import re\n",
        "\n",
        "text = \"24 Hours a Day,\\n7 Days a Week,\\n & \\t 365 Days a Year!\"\n",
        "\n",
        "pattern = r\"[^a-zA-Z0-9]\"  #알파벳(대소문자 구분 없이)과 숫자를 제외한 모든 문자를 찾을 때 사용 (e.g., white space, punctuations, escape characters (e.g., \\n, \\t), etc.)\n",
        "\n",
        "matches = re.findall(pattern, text)\n",
        "\n",
        "for i in matches:\n",
        "    print(\"Match:\", i)"
      ],
      "metadata": {
        "colab": {
          "base_uri": "https://localhost:8080/"
        },
        "id": "p1FWxclyV7Rh",
        "outputId": "d5b13a83-3d6e-42f3-b677-32b67fe1c8c8"
      },
      "execution_count": null,
      "outputs": [
        {
          "output_type": "stream",
          "name": "stdout",
          "text": [
            "Match:  \n",
            "Match:  \n",
            "Match:  \n",
            "Match: ,\n",
            "Match: \n",
            "\n",
            "Match:  \n",
            "Match:  \n",
            "Match:  \n",
            "Match: ,\n",
            "Match: \n",
            "\n",
            "Match:  \n",
            "Match: &\n",
            "Match:  \n",
            "Match: \t\n",
            "Match:  \n",
            "Match:  \n",
            "Match:  \n",
            "Match:  \n",
            "Match: !\n"
          ]
        }
      ]
    },
    {
      "cell_type": "code",
      "source": [
        "#17. |  (뜻: or 와 일치) 예시 [Get students' script modified in line 5 ('red or blue' to 'red, green, or blue) & line 6 'either red|blue' to '(red|blue)' in line]\n",
        "\n",
        "import re\n",
        "\n",
        "text = \"The color can be either red, green, or blue.\"\n",
        "pattern = r\"(red|blue)\"  # \"either red\" 또는 \"blue\"에 일치하는 패턴\n",
        "\n",
        "matches = re.findall(pattern, text)\n",
        "\n",
        "for i in matches:\n",
        "    print(\"Match:\", i)"
      ],
      "metadata": {
        "colab": {
          "base_uri": "https://localhost:8080/"
        },
        "id": "sgtQucMwWL98",
        "outputId": "a90d7f51-57c1-49da-f4df-d6b40836314f"
      },
      "execution_count": null,
      "outputs": [
        {
          "output_type": "stream",
          "name": "stdout",
          "text": [
            "Match: red\n",
            "Match: blue\n"
          ]
        }
      ]
    },
    {
      "cell_type": "code",
      "source": [
        "#18. Understanding difference Escape \\ and Meta characters. e.g., r\"\\$\" vw. r\"$\"\"\n",
        "\n",
        "import re\n",
        "\n",
        "text = \"It cost me $715.45 and more.\"\n",
        "\n",
        "pattern1 = r\"more.$\"\n",
        "\n",
        "matches1 = re.findall(pattern1, text)\n",
        "\n",
        "for i in matches1:\n",
        "  print(\"Match1:\", i)\n",
        "\n",
        "\n",
        "pattern2 = r\"\\$*7\"\n",
        "\n",
        "matches2 = re.findall(pattern2, text)\n",
        "\n",
        "for i in matches2:\n",
        "  print(\"Match2\", i)\n",
        "\n",
        "\n"
      ],
      "metadata": {
        "id": "jRv_soTMM1CJ",
        "outputId": "6d017f20-a754-438d-c6da-5befd1693a65",
        "colab": {
          "base_uri": "https://localhost:8080/"
        }
      },
      "execution_count": null,
      "outputs": [
        {
          "output_type": "stream",
          "name": "stdout",
          "text": [
            "Match1: more.\n",
            "Match2 $7\n"
          ]
        }
      ]
    },
    {
      "cell_type": "markdown",
      "source": [
        "#**<font color = 'red'> _More on RE_**"
      ],
      "metadata": {
        "id": "ESEzerU1NBpM"
      }
    },
    {
      "cell_type": "markdown",
      "source": [
        "<font color = 'blue'> **정규 표현식 문법에는 역 슬래쉬(\\)를 이용하여 자주 쓰이는 문자 규칙들이 있다.**</font>\n",
        "\n",
        "|Character Rules|Meaning|\n",
        "|--|--|\n",
        "|\\  |  역 슬래쉬 문자 자체를 의미.이스케이프 문자로 사용|\n",
        "|\\d |  모든 숫자(any numbers)를 의미. [0-9]와 의미가 동일|\n",
        "|\\D |  숫자를 제외한 모든 문자를 의미. [^0-9]와 의미가 동일|\n",
        "|\\s |  공백을 의미합니다. [ \\t\\n\\r\\f\\v]와 의미가 동일.|\n",
        "|\\S |  공백을 제외한 문자를 의미합니다. [^ \\t\\n\\r\\f\\v]와 의미가 동일.|\n",
        "|\\w |  문자 또는 숫자(any charcters or numbers)를 의미합니다. [a-zA-Z0-9]와 의미가 동일.|\n",
        "|\\W |  문자 또는 숫자가 아닌 문자를 의미. [^a-zA-Z0-9]와 의미가 동일.|"
      ],
      "metadata": {
        "id": "cP40ceDaID6I"
      }
    },
    {
      "cell_type": "markdown",
      "source": [
        "### 정규 표현식(re)에서 back slash \\ 는 이스케이프 문자로 사용되며, 메타 문자 자체를 일반 문자로 인식하도록 함.\n",
        "- 추후 참고를 위한 노트: 정규 표현식에서 \\s, \\f, \\v는 공백 문자를 나타내는 이스케이프 시퀀스다. 이들은 다음과 같은 의미를 갖는다:\n",
        "  - \\s는 정규 표현식에서 공백 문자(whitespace character)를 나타낸다. 공백 문자에는 스페이스(space), 탭(tab), 개행(newline), 캐리지 리턴(carriage return), 세로 탭(vertical tab), 폼 피드(form feed) 등이 포함된다. 이를 통해 문자열에서 공백 문자를 찾거나 매치할 수 있다.\n",
        "\n"
      ],
      "metadata": {
        "id": "ltll_jRv4ETE"
      }
    },
    {
      "cell_type": "code",
      "source": [
        "#19. 정규 표현식에서 백슬래시(\\)는 이스케이프 문자로 사용되며, 특수 문자를 나타내거나 메타 문자 자체를 일반 문자로 인식하도록 함.\n",
        "#백슬래시를 사용하여 특수 문자를 매칭할 수 있다. 예를 들어, \\.은 실제 점 문자(.)를 매치\n",
        "\n",
        "import re\n",
        "\n",
        "text = \"Hello, world.\\n This is test #5.\"\n",
        "pattern = r\"\\.\"  # 실제 Period . 문자를 매치\n",
        "\n",
        "matches = re.findall(pattern, text)\n",
        "\n",
        "for i in matches:\n",
        "    print(\"Match:\", i)"
      ],
      "metadata": {
        "colab": {
          "base_uri": "https://localhost:8080/"
        },
        "id": "6nyJV7_03i47",
        "outputId": "89b17177-6daf-4343-c7e4-6616ae162123"
      },
      "execution_count": null,
      "outputs": [
        {
          "output_type": "stream",
          "name": "stdout",
          "text": [
            "Match: .\n",
            "Match: .\n"
          ]
        }
      ]
    },
    {
      "cell_type": "code",
      "source": [
        "#19.a 💣💊 COMPARE. The following example is more advanced from #1.\n",
        "\n",
        "import re\n",
        "\n",
        "text = \"Hello, world.\\n This is test #5.\"\n",
        "pattern = r\".\"  # Period . 문자를 매치\n",
        "#(cf., r'.' for 한개의 임의의 문자(예시: 대문자, 소문자, 숫자, white space, punctuations, symbols).\n",
        "# special charecters including meta charcters는 . 한개의 임의의 문자에 포함되지 않음.)\n",
        "\n",
        "matches = re.findall(pattern, text)\n",
        "\n",
        "for i in matches:\n",
        "    print(\"Match:\", i)"
      ],
      "metadata": {
        "id": "zS5JfoVPihFk",
        "outputId": "4c4da339-699d-42a2-fb75-cee35ec99fef",
        "colab": {
          "base_uri": "https://localhost:8080/"
        }
      },
      "execution_count": null,
      "outputs": [
        {
          "output_type": "stream",
          "name": "stdout",
          "text": [
            "Match: H\n",
            "Match: e\n",
            "Match: l\n",
            "Match: l\n",
            "Match: o\n",
            "Match: ,\n",
            "Match:  \n",
            "Match: w\n",
            "Match: o\n",
            "Match: r\n",
            "Match: l\n",
            "Match: d\n",
            "Match: .\n",
            "Match:  \n",
            "Match: T\n",
            "Match: h\n",
            "Match: i\n",
            "Match: s\n",
            "Match:  \n",
            "Match: i\n",
            "Match: s\n",
            "Match:  \n",
            "Match: t\n",
            "Match: e\n",
            "Match: s\n",
            "Match: t\n",
            "Match:  \n",
            "Match: #\n",
            "Match: 5\n",
            "Match: .\n"
          ]
        }
      ]
    },
    {
      "cell_type": "code",
      "source": [
        "#20. 정규 표현식에서 백슬래시(\\)는 이스케이프 문자로 사용되며, 특수 문자를 나타내거나 메타 문자 자체를 일반 문자로 인식하도록 함.\n",
        "#백슬래시를 사용하여 특수 문자를 매칭할 수 있다. 예를 들어, \\$은 실제 dollar sign($)를 매치\n",
        "\n",
        "import re\n",
        "\n",
        "text = \"The price is $100.\"\n",
        "pattern = r\"\\$\"  # 달러 기호를 매치\n",
        "\n",
        "matches = re.findall(pattern, text)\n",
        "\n",
        "for i in matches:\n",
        "    print(\"Match:\", i)"
      ],
      "metadata": {
        "colab": {
          "base_uri": "https://localhost:8080/"
        },
        "id": "pUHq2DTm4mgC",
        "outputId": "560b50e0-519c-4534-953c-4d608690322b"
      },
      "execution_count": null,
      "outputs": [
        {
          "output_type": "stream",
          "name": "stdout",
          "text": [
            "Match: $\n"
          ]
        }
      ]
    },
    {
      "cell_type": "code",
      "source": [
        "#21. '\\d' represents 0 to 9.\n",
        "import re\n",
        "\n",
        "text = \"The price is $100.\"\n",
        "pattern = r\"\\d\"\n",
        "\n",
        "matches = re.findall(pattern, text)\n",
        "\n",
        "for i in matches:\n",
        "    print(\"Match:\", i)"
      ],
      "metadata": {
        "id": "bLg7Rq73e6p7",
        "outputId": "4ebf389f-ef58-46e9-d86e-61aac4598490",
        "colab": {
          "base_uri": "https://localhost:8080/"
        }
      },
      "execution_count": null,
      "outputs": [
        {
          "output_type": "stream",
          "name": "stdout",
          "text": [
            "Match: 1\n",
            "Match: 0\n",
            "Match: 0\n"
          ]
        }
      ]
    },
    {
      "cell_type": "code",
      "source": [
        "#21a 💣💊COMPARE\n",
        "\n",
        "#cf., 💊 만약 \"100\"이라는 문자열 전체에 대한 하나의 일치를 원한다면 r\"\\d+\"와 같이 + 메타 문자(meta character +)를 사용하여 숫자가 <하나 이상> 연속해서 일치하도록 패턴을 지정해야 함.\n",
        "\n",
        "\n",
        "import re\n",
        "\n",
        "text1 = \"The price is $100 and the number pi is approximately 3.14.\"\n",
        "pattern1 = r'\\d+'\n",
        "\n",
        "text2 = \"The number pi is approximately 3.14159265358979323846 and you will hear a lot about it in Math class from 1st Grade to the 12th Grade.\"\n",
        "pattern2 = r\"\\d+\\.\\d+\"  # 메타 문자(+)를 사용하여 숫자가 하나 이상 연속해서 일치하도록 패턴을 지정.\n",
        "\n",
        "matches1 = re.findall(pattern1, text1)\n",
        "matches2 = re.findall(pattern2, text2)\n",
        "\n",
        "print(matches1) #새로 추가 as of 4/30/24\n",
        "for i in matches1:\n",
        "    print(\"Match1:\", i)\n",
        "\n",
        "print('\\n') #새로 추가 as of 4/30/24\n",
        "\n",
        "print(matches2)\n",
        "for i in matches2:\n",
        "    print(\"Match2:\", i)"
      ],
      "metadata": {
        "colab": {
          "base_uri": "https://localhost:8080/"
        },
        "id": "njhXD--2LhSs",
        "outputId": "a9afbe2a-cb62-4518-8171-30606b74bb65"
      },
      "execution_count": null,
      "outputs": [
        {
          "output_type": "stream",
          "name": "stdout",
          "text": [
            "['100', '3', '14']\n",
            "Match1: 100\n",
            "Match1: 3\n",
            "Match1: 14\n",
            "\n",
            "\n",
            "['3.14159265358979323846']\n",
            "Match2: 3.14159265358979323846\n"
          ]
        }
      ]
    },
    {
      "cell_type": "code",
      "source": [
        "# 22. \\D 예시\n",
        "\n",
        "import re\n",
        "\n",
        "text = \"The price is $100.\"\n",
        "pattern = r\"\\D\"  # 숫자가 아닌 문자(기호 포함)에 일치\n",
        "\n",
        "matches = re.findall(pattern, text)\n",
        "print(matches)\n",
        "\n",
        "for i in matches:\n",
        "    print(\"Match:\", i)"
      ],
      "metadata": {
        "colab": {
          "base_uri": "https://localhost:8080/"
        },
        "id": "dJenR0g8JJ4K",
        "outputId": "ab78b056-eec9-476e-b0ea-501c40e2ac73"
      },
      "execution_count": null,
      "outputs": [
        {
          "output_type": "stream",
          "name": "stdout",
          "text": [
            "['T', 'h', 'e', ' ', 'p', 'r', 'i', 'c', 'e', ' ', 'i', 's', ' ', '$', '.']\n",
            "Match: T\n",
            "Match: h\n",
            "Match: e\n",
            "Match:  \n",
            "Match: p\n",
            "Match: r\n",
            "Match: i\n",
            "Match: c\n",
            "Match: e\n",
            "Match:  \n",
            "Match: i\n",
            "Match: s\n",
            "Match:  \n",
            "Match: $\n",
            "Match: .\n"
          ]
        }
      ]
    },
    {
      "cell_type": "code",
      "source": [
        "# 23. \\s 예시\n",
        "\n",
        "import re\n",
        "\n",
        "text = \"Hello   World\"\n",
        "pattern = r\"\\s\"  # 공백 문자에 일치\n",
        "\n",
        "matches = re.findall(pattern, text)\n",
        "print(matches)\n",
        "\n",
        "for match in matches:\n",
        "    print(\"Match:\", match)"
      ],
      "metadata": {
        "colab": {
          "base_uri": "https://localhost:8080/"
        },
        "id": "-YAo4yI-JRdk",
        "outputId": "20624dab-db3d-4bba-de66-84fae1cc6b6c"
      },
      "execution_count": null,
      "outputs": [
        {
          "output_type": "stream",
          "name": "stdout",
          "text": [
            "[' ', ' ', ' ']\n",
            "Match:  \n",
            "Match:  \n",
            "Match:  \n"
          ]
        }
      ]
    },
    {
      "cell_type": "code",
      "source": [
        "#24.\\S 예시\n",
        "import re\n",
        "\n",
        "text = \"Hello   World\"\n",
        "pattern = r\"\\S\"  # 공백 문자가 아닌 문자에 일치\n",
        "\n",
        "matches = re.findall(pattern, text)\n",
        "print(matches) #새로 추가 as of 4/30/24\n",
        "\n",
        "for match in matches:\n",
        "    print(\"Match:\", match)"
      ],
      "metadata": {
        "colab": {
          "base_uri": "https://localhost:8080/"
        },
        "id": "MAf8sGWKJXVo",
        "outputId": "37197404-8da0-473f-bfba-2a72a71538f4"
      },
      "execution_count": null,
      "outputs": [
        {
          "output_type": "stream",
          "name": "stdout",
          "text": [
            "['H', 'e', 'l', 'l', 'o', 'W', 'o', 'r', 'l', 'd']\n",
            "Match: H\n",
            "Match: e\n",
            "Match: l\n",
            "Match: l\n",
            "Match: o\n",
            "Match: W\n",
            "Match: o\n",
            "Match: r\n",
            "Match: l\n",
            "Match: d\n"
          ]
        }
      ]
    },
    {
      "cell_type": "code",
      "source": [
        "#25. \\w 예시\n",
        "import re\n",
        "\n",
        "text = \"Python is _awesome_!\"\n",
        "pattern = r\"\\w\"  # an alphanumeric character 일치. cf. an underscores included for 'r\"\\w\". However, punctuations such as period, exclamation mark, etc. are NOT included.\n",
        "\n",
        "matches = re.findall(pattern, text)\n",
        "print(matches) #새로 추가 as of 4/30/24\n",
        "\n",
        "for match in matches:\n",
        "    print(\"Match:\", match)"
      ],
      "metadata": {
        "colab": {
          "base_uri": "https://localhost:8080/"
        },
        "id": "dmn0l30UJfKf",
        "outputId": "a4b68d90-1fe3-4ece-e8f5-5641ce429386"
      },
      "execution_count": null,
      "outputs": [
        {
          "output_type": "stream",
          "name": "stdout",
          "text": [
            "['P', 'y', 't', 'h', 'o', 'n', 'i', 's', '_', 'a', 'w', 'e', 's', 'o', 'm', 'e', '_']\n",
            "Match: P\n",
            "Match: y\n",
            "Match: t\n",
            "Match: h\n",
            "Match: o\n",
            "Match: n\n",
            "Match: i\n",
            "Match: s\n",
            "Match: _\n",
            "Match: a\n",
            "Match: w\n",
            "Match: e\n",
            "Match: s\n",
            "Match: o\n",
            "Match: m\n",
            "Match: e\n",
            "Match: _\n"
          ]
        }
      ]
    },
    {
      "cell_type": "code",
      "source": [
        "#26. \\w+ 예시\n",
        "\n",
        "import re\n",
        "\n",
        "text = \"Python is awesome!\"\n",
        "pattern = r\"\\w+\"  #\"단어 문자\"를 나타냅니다. \"단어 문자\"는 알파벳 (대문자 및 소문자), 숫자 및 밑줄 (_)을 포함합니다. +: 이것은 하나 이상의 연속된 문자를 나타냅니다. 따라서 \\w+는 하나 이상의 연속된 \"단어 문자\"를 찾는 패턴\n",
        "\n",
        "matches = re.findall(pattern, text) #\"Python\", \"is\", \"awesome\"는 모두 하나 이상의 연속된 \"단어 문자\"로 이루어져 있으므로 이 정규표현식 패턴에 일치\n",
        "print(matches) #새로 추가 as of 4/30/24\n",
        "\n",
        "for match in matches:\n",
        "    print(\"Match:\", match)"
      ],
      "metadata": {
        "colab": {
          "base_uri": "https://localhost:8080/"
        },
        "id": "rQJHkVf1LSi8",
        "outputId": "52357fa9-04ed-4147-a280-e90a1961e8e7"
      },
      "execution_count": null,
      "outputs": [
        {
          "output_type": "stream",
          "name": "stdout",
          "text": [
            "['Python', 'is', 'awesome']\n",
            "Match: Python\n",
            "Match: is\n",
            "Match: awesome\n"
          ]
        }
      ]
    },
    {
      "cell_type": "code",
      "source": [
        "#27. 백슬래시를 사용하여 특수한 문자 클래스를 생성할 수 있음. 예를 들어, \\d는 숫자를 매치하고, \\s는 공백 문자를 매치, \\w+는 하나 이상의 alphnumeric character including underscores\n",
        "\n",
        "import re\n",
        "\n",
        "text = \"123 Main Street and 5 Avenue \"\n",
        "pattern = r\"\\d\\s\\w+\"  # 숫자, 공백, 단어를 매치 (하나의 숫자(\\d), 공백 문자(\\s) 하나 이상의 문자(\\w+)) <\"+\"는 이 sign 앞에 것이 1회 이상 반복되는 것을 뜻함>\n",
        "\n",
        "matches = re.findall(pattern, text)\n",
        "print(matches) #새로 추가 as of 4/30/24\n",
        "\n",
        "for i in matches:\n",
        "    print(\"Match:\", i)"
      ],
      "metadata": {
        "colab": {
          "base_uri": "https://localhost:8080/"
        },
        "id": "WVVXDwOS5B5U",
        "outputId": "f9a5d5b7-caed-4e12-d474-e8d78ab9792a"
      },
      "execution_count": null,
      "outputs": [
        {
          "output_type": "stream",
          "name": "stdout",
          "text": [
            "['3 Main', '5 Avenue']\n",
            "Match: 3 Main\n",
            "Match: 5 Avenue\n"
          ]
        }
      ]
    },
    {
      "cell_type": "code",
      "source": [
        "#27a. 백슬래시를 사용하여 특수한 문자 클래스를 생성할 수 있음. 예를 들어, \\d+는 일련의 연속된 숫자를 매치하고, \\s는 공백 문자를 매치, \\w+는 하나 이상의 alphnumeric character including underscores\n",
        "\n",
        "import re\n",
        "\n",
        "text = \"123 Main Street and 5 Avenue \"\n",
        "pattern = r\"\\d+\\s\\w+\"  # 숫자, 공백, 단어를 매치 (하나의 숫자(\\d), 공백 문자(\\s) 하나 이상의 문자(\\w+)) <\"+\"는 이 sign 앞에 것이 1회 이상 반복되는 것을 뜻함>\n",
        "\n",
        "matches = re.findall(pattern, text)\n",
        "print(matches)\n",
        "\n",
        "for i in matches:\n",
        "    print(\"Match:\", i)\n"
      ],
      "metadata": {
        "id": "1NbEtRhPt71N",
        "outputId": "72f922f5-a4e2-4aec-a63b-1ef0714d030d",
        "colab": {
          "base_uri": "https://localhost:8080/"
        }
      },
      "execution_count": null,
      "outputs": [
        {
          "output_type": "stream",
          "name": "stdout",
          "text": [
            "['123 Main', '5 Avenue']\n",
            "Match: 123 Main\n",
            "Match: 5 Avenue\n"
          ]
        }
      ]
    },
    {
      "cell_type": "code",
      "source": [
        "# 27b 💣💊COMPARE\n",
        "\n",
        "import re\n",
        "\n",
        "text = \"123 _Main_ Street_ and 5th Avenue \"\n",
        "pattern = r\"\\d\\s\\w+\"  # 숫자, 공백, 단어를 매치 (하나의 숫자(\\d), 공백 문자(\\s) 하나 이상의 단어 문자(\\w+)) <+ sign 앞에 alphanumeric characters 1회 이상 반복>\n",
        "\n",
        "matches = re.findall(pattern, text)\n",
        "print(matches) #\n",
        "\n",
        "for i in matches:\n",
        "  print(\"Match:\", i)"
      ],
      "metadata": {
        "colab": {
          "base_uri": "https://localhost:8080/"
        },
        "id": "fCBZj9n06MYZ",
        "outputId": "6e0c62eb-a025-4255-b466-617e075622e7"
      },
      "execution_count": null,
      "outputs": [
        {
          "output_type": "stream",
          "name": "stdout",
          "text": [
            "Match: 3 _Main_\n"
          ]
        }
      ]
    },
    {
      "cell_type": "code",
      "source": [
        "# 27c 💣💊COMPARE\n",
        "\n",
        "import re\n",
        "\n",
        "text = \"123 _Main_ Street_ and 5th Avenue \"\n",
        "pattern = r\"\\d+\\s\\w+\"  # 숫자, 공백, 단어를 매치 (하나의 숫자(\\d), 공백 문자(\\s) 하나 이상의 단어 문자(\\w+)) <+ sign 앞에 alphanumeric characters 1회 이상 반복>\n",
        "\n",
        "matches = re.findall(pattern, text)\n",
        "print(matches) #새로 추가 as of 4/30/24\n",
        "\n",
        "for i in matches:\n",
        "  print(\"Match:\", i)"
      ],
      "metadata": {
        "id": "Yp1e1EA6wYST",
        "outputId": "bbc268e5-8dc9-4581-d990-859f944ed76e",
        "colab": {
          "base_uri": "https://localhost:8080/"
        }
      },
      "execution_count": null,
      "outputs": [
        {
          "output_type": "stream",
          "name": "stdout",
          "text": [
            "['123 _Main_']\n",
            "Match: 123 _Main_\n"
          ]
        }
      ]
    },
    {
      "cell_type": "markdown",
      "source": [
        "\n",
        ">\n",
        "2️⃣ 정규표현식 모듈 함수 ⤵️\n",
        "정규표현식 모듈에서 지원하는 함수는 아래와 같다.\n",
        "\n",
        "모듈 함수      설명\n",
        "re.compile()  정규표현식을 컴파일하는 함수다. 다시 말해, 파이썬에게 전해주는 역할을 한다. 찾고자 하는 패턴이 빈번한 경우에는 미리 컴파일 해놓고 사용하면 속도와 편의성면에서 유리하다. (e.g., >> r = re.compile(“ab{2,4}c”)\n",
        "\n",
        "  - In Python, compiling a regular expression means converting a regular expression pattern into a regular expression object. This compiled object can then be used for various operations, such as searching, matching, or replacing text in strings more efficiently. Compiling a regular expression pattern can offer performance benefits when you need to use the same pattern multiple times in your code.\n",
        "    - 파이썬에서 정규 표현식을 컴파일하는 것은 **정규 표현식 패턴을 정규 표현식 객체로 변환**하는 것을 의미한다. 이 컴파일된 객체는 문자열에서 검색, 매칭 또는 텍스트 교체와 같은 다양한 작업에 효율적으로 사용할 수 있다. 정규 표현식 패턴을 컴파일하면 코드에서 동일한 패턴을 여러 번 사용해야 할 때 성능상 이점을 제공할 수 있다.\n",
        "\n",
        "- re.search()   문자열 전체에 대해서 정규표현식과 매치되는지를 검색\n",
        "-re.match()   문자열의 처음이 정규표현식과 매치되는지를 검색\n",
        "-re.split()      정규 표현식을 기준으로 문자열을 분리하여 리스트로 리턴\n",
        "-re.findall()    문자열에서 정규 표현식과 매치되는 모든 경우의 문자열을 찾아서 리스트로 리턴. 만약 매치되는 문자열이 없다면 빈 리스트가 리턴\n",
        "-re.finditer()  문자열에서 정규 표현식과 매치되는 모든 경우의 문자열에 대한 이터레이터 객체를 리턴\n",
        "-re.sub()        문자열에서 정규 표현식과 일치하는 부분에 대해서 다른 문자열로 대체"
      ],
      "metadata": {
        "id": "qc55o_lFrJhw"
      }
    },
    {
      "cell_type": "markdown",
      "source": [
        "###<font color = 'green'> **re.compile( ) 예시**"
      ],
      "metadata": {
        "id": "YQdCi_xC3MIu"
      }
    },
    {
      "cell_type": "markdown",
      "source": [
        "###**regular expression을 사용한 다음 코드의 설명**\n",
        "\n",
        "shortword = re.compile(r'\\W*\\b\\w{1,3}\\b')\n",
        "\n",
        "  - 이 코드의 목적은 정규 표현식을 사용하여 주어진 텍스트에서 세 글자 이하의 짧은 단어를 찾아내는 것이다.\n",
        "\n",
        "  - 여기에서 정규 표현식 re.compile(r'\\W*\\b\\w{1,3}\\b')은 다음과 같은 요소로 구성된다:\n",
        "\n",
        "    - re.compile(): 이 부분은 정규 표현식을 컴파일하는 함수를 호출한다. 이 함수를 사용하면 정규 표현식을 미리 컴파일하여 재사용할 수 있다.\n",
        "\n",
        "    - r'\\W*\\b\\w{1,3}\\b': 이 부분이 실제 정규 표현식 패턴을 나타낸다. 여기에서 각 부분을 설명하면 다음과 같다.\n",
        "\n",
        "      - \\W*: \\W는 특수 문자가 아닌 문자(영문자, 숫자, 언더스코어)와 일치하는 것을 나타내며, *는 바로 앞의 패턴이 0회 이상 반복됨을 의미한다. 따라서 \\W*는 0회 이상의 특수 문자가 있는 부분을 의미한다. 이것은 짧은 단어 앞뒤에 있는 특수 문자나 공백을 처리하기 위한 부분이다.\n",
        "\n",
        "      - \\b: \\b는 단어 경계를 나타내며, 단어의 시작 또는 끝과 일치한다.\n",
        "\n",
        "      - \\w{1,3}: \\w는 워드 문자(알파벳, 숫자, 언더스코어)와 일치하는 것을 나타낸다. {1,3}는 앞의 패턴인 워드 문자가 1회에서 3회까지 반복됨을 의미한다. 따라서 \\w{1,3}는 1~3글자의 단어를 찾는다.\n",
        "\n",
        "      -\\b: 다시 한 번 \\b를 사용하여 단어 경계를 나타낸다.\n",
        "\n",
        "이렇게 정규 표현식을 조합하면 특수 문자와 공백을 포함하지 않고 1~3글자의 단어를 찾아낼 수 있다. 이 코드를 사용하면 텍스트에서 짧은 단어를 필터링하거나 추출하는 데 유용하게 활용할 수 있다."
      ],
      "metadata": {
        "id": "uaB5KnB33JiY"
      }
    }
  ]
}